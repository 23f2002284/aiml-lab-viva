{
 "cells": [
  {
   "cell_type": "code",
   "execution_count": 1,
   "id": "0890bf46",
   "metadata": {},
   "outputs": [],
   "source": [
    "from sklearn.decomposition import PCA\n",
    "from sklearn.preprocessing import StandardScaler\n",
    "from sklearn.datasets import load_iris\n",
    "import pandas as pd"
   ]
  },
  {
   "cell_type": "code",
   "execution_count": 2,
   "id": "1dd0eeaf",
   "metadata": {},
   "outputs": [],
   "source": [
    "iris = load_iris()\n",
    "X = iris.data\n",
    "y = iris.target\n",
    "\n",
    "scaler = StandardScaler()\n",
    "X_scaled = scaler.fit_transform(X)\n"
   ]
  },
  {
   "cell_type": "code",
   "execution_count": 3,
   "id": "8dafd56a",
   "metadata": {},
   "outputs": [],
   "source": [
    "pca = PCA(n_components=2)\n",
    "X_pca = pca.fit_transform(X_scaled)"
   ]
  },
  {
   "cell_type": "code",
   "execution_count": 4,
   "id": "792b4b15",
   "metadata": {},
   "outputs": [
    {
     "name": "stdout",
     "output_type": "stream",
     "text": [
      "        PC1       PC2  Target\n",
      "0 -2.264703  0.480027       0\n",
      "1 -2.080961 -0.674134       0\n",
      "2 -2.364229 -0.341908       0\n",
      "3 -2.299384 -0.597395       0\n",
      "4 -2.389842  0.646835       0\n",
      "\n",
      "Explained Variance Ratio: [0.72962445 0.22850762]\n",
      "Total Variance Captured: 0.9581320720000166\n"
     ]
    }
   ],
   "source": [
    "df_pca = pd.DataFrame(data=X_pca, columns=[\"PC1\", \"PC2\"])\n",
    "df_pca[\"Target\"] = y\n",
    "print(df_pca.head())\n",
    "\n",
    "print(\"\\nExplained Variance Ratio:\", pca.explained_variance_ratio_)\n",
    "print(\"Total Variance Captured:\", sum(pca.explained_variance_ratio_))"
   ]
  }
 ],
 "metadata": {
  "kernelspec": {
   "display_name": ".venv",
   "language": "python",
   "name": "python3"
  },
  "language_info": {
   "codemirror_mode": {
    "name": "ipython",
    "version": 3
   },
   "file_extension": ".py",
   "mimetype": "text/x-python",
   "name": "python",
   "nbconvert_exporter": "python",
   "pygments_lexer": "ipython3",
   "version": "3.13.5"
  }
 },
 "nbformat": 4,
 "nbformat_minor": 5
}
