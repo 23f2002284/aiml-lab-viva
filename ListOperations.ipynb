{
 "cells": [
  {
   "cell_type": "code",
   "execution_count": 1,
   "id": "edf878ca",
   "metadata": {},
   "outputs": [],
   "source": [
    "import numpy as np"
   ]
  },
  {
   "cell_type": "code",
   "execution_count": 3,
   "id": "f1ebda2b",
   "metadata": {},
   "outputs": [],
   "source": [
    "data = [10, 20, 20, 30, 40, 50, 50, 50, 60]"
   ]
  },
  {
   "cell_type": "code",
   "execution_count": 4,
   "id": "6e950748",
   "metadata": {},
   "outputs": [
    {
     "name": "stdout",
     "output_type": "stream",
     "text": [
      "Mean: 36.666666666666664\n"
     ]
    }
   ],
   "source": [
    "mean = 0\n",
    "for value in data:\n",
    "    mean += value\n",
    "mean /= len(data)\n",
    "print(\"Mean:\", mean)"
   ]
  },
  {
   "cell_type": "code",
   "execution_count": 6,
   "id": "e2407e88",
   "metadata": {},
   "outputs": [
    {
     "name": "stdout",
     "output_type": "stream",
     "text": [
      "Median: 40\n"
     ]
    }
   ],
   "source": [
    "sorted_data = sorted(data)\n",
    "if len(data) % 2 == 1:\n",
    "    median_val = sorted_data[len(data) // 2]\n",
    "else:\n",
    "    median_val = (sorted_data[len(data) // 2 - 1] + sorted_data[len(data) // 2]) / 2\n",
    "print(\"Median:\", median_val)"
   ]
  },
  {
   "cell_type": "code",
   "execution_count": 7,
   "id": "7a2a4f2f",
   "metadata": {},
   "outputs": [
    {
     "name": "stdout",
     "output_type": "stream",
     "text": [
      "Mode: 50\n"
     ]
    }
   ],
   "source": [
    "freq = {}\n",
    "for num in data:\n",
    "    freq[num] = freq.get(num, 0) + 1\n",
    "max_freq = max(freq.values())\n",
    "mode_val = [k for k, v in freq.items() if v == max_freq]\n",
    "if len(mode_val) == 1:\n",
    "    mode_val = mode_val[0]\n",
    "print(\"Mode:\", mode_val)"
   ]
  },
  {
   "cell_type": "code",
   "execution_count": 8,
   "id": "3f66abf8",
   "metadata": {},
   "outputs": [
    {
     "name": "stdout",
     "output_type": "stream",
     "text": [
      "Variance: 300.0\n"
     ]
    }
   ],
   "source": [
    "variance_val = sum((x - mean) ** 2 for x in data) / (len(data) - 1)\n",
    "\n",
    "print(\"Variance:\", variance_val)"
   ]
  },
  {
   "cell_type": "code",
   "execution_count": 9,
   "id": "c8e30bc9",
   "metadata": {},
   "outputs": [
    {
     "name": "stdout",
     "output_type": "stream",
     "text": [
      "Standard Deviation: 17.320508075688775\n"
     ]
    }
   ],
   "source": [
    "std_dev_val = variance_val ** 0.5\n",
    "print(\"Standard Deviation:\", std_dev_val)"
   ]
  }
 ],
 "metadata": {
  "kernelspec": {
   "display_name": ".venv",
   "language": "python",
   "name": "python3"
  },
  "language_info": {
   "codemirror_mode": {
    "name": "ipython",
    "version": 3
   },
   "file_extension": ".py",
   "mimetype": "text/x-python",
   "name": "python",
   "nbconvert_exporter": "python",
   "pygments_lexer": "ipython3",
   "version": "3.13.5"
  }
 },
 "nbformat": 4,
 "nbformat_minor": 5
}
