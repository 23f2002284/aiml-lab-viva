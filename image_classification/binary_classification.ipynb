{
 "cells": [
  {
   "cell_type": "markdown",
   "id": "b70d8676",
   "metadata": {},
   "source": [
    "# Popular Datasets\n",
    "- Cat and Dog Classification\n",
    "- MNIST ( 0-9 ) but can ask for specific 2\n",
    "- CIFAR-10\n",
    "- ImageNet\n",
    "- CelebA\n",
    "\n",
    "# Algorithms can be used for Image Classification\n",
    "- Traditional algorithm\n",
    "- Deep Learning algorithm (CNN, ViT etc.)\n",
    "- Many more..."
   ]
  },
  {
   "cell_type": "markdown",
   "id": "91f6e8e2",
   "metadata": {},
   "source": [
    "# Cat and Dog Classification"
   ]
  },
  {
   "cell_type": "code",
   "execution_count": null,
   "id": "e1f03ce2",
   "metadata": {},
   "outputs": [],
   "source": [
    "# Imports\n",
    "import torch \n",
    "import torch.nn as nn\n",
    "from torch import optim\n",
    "import torch.nn.functional as F\n",
    "from torchvision import datasets, transforms, models\n",
    "\n",
    "device = torch.device(\"cuda\" if torch.cuda.is_available() else \"cpu\")"
   ]
  },
  {
   "cell_type": "code",
   "execution_count": null,
   "id": "b0f27324",
   "metadata": {},
   "outputs": [],
   "source": [
    "# Get the Dataset"
   ]
  },
  {
   "cell_type": "code",
   "execution_count": null,
   "id": "95304d7b",
   "metadata": {},
   "outputs": [],
   "source": [
    "# Preprocess the Data"
   ]
  },
  {
   "cell_type": "code",
   "execution_count": null,
   "id": "42b2440c",
   "metadata": {},
   "outputs": [],
   "source": [
    "# Load the Model"
   ]
  },
  {
   "cell_type": "code",
   "execution_count": null,
   "id": "6a7edbb8",
   "metadata": {},
   "outputs": [],
   "source": [
    "# train the model"
   ]
  },
  {
   "cell_type": "code",
   "execution_count": null,
   "id": "206e29b7",
   "metadata": {},
   "outputs": [],
   "source": [
    "# Save the Model"
   ]
  },
  {
   "cell_type": "code",
   "execution_count": null,
   "id": "a5f428a0",
   "metadata": {},
   "outputs": [],
   "source": [
    "# test the model evaluation matrices"
   ]
  },
  {
   "cell_type": "code",
   "execution_count": null,
   "id": "d7abe6b4",
   "metadata": {},
   "outputs": [],
   "source": [
    "# Conclusions"
   ]
  }
 ],
 "metadata": {
  "language_info": {
   "name": "python"
  }
 },
 "nbformat": 4,
 "nbformat_minor": 5
}
